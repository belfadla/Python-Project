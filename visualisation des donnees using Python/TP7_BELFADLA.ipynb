{
 "cells": [
  {
   "cell_type": "markdown",
   "id": "b3224cef",
   "metadata": {},
   "source": [
    "# TP7\n",
    "BELFADLA FATIMA EZZAHRA"
   ]
  },
  {
   "cell_type": "code",
   "execution_count": 1,
   "id": "6ca45420",
   "metadata": {},
   "outputs": [],
   "source": [
    "import matplotlib\n",
    "import numpy as np\n",
    "import matplotlib.pyplot as plt \n",
    "import pandas as pd"
   ]
  },
  {
   "cell_type": "code",
   "execution_count": 2,
   "id": "d037ad2c",
   "metadata": {},
   "outputs": [
    {
     "data": {
      "text/html": [
       "<div>\n",
       "<style scoped>\n",
       "    .dataframe tbody tr th:only-of-type {\n",
       "        vertical-align: middle;\n",
       "    }\n",
       "\n",
       "    .dataframe tbody tr th {\n",
       "        vertical-align: top;\n",
       "    }\n",
       "\n",
       "    .dataframe thead th {\n",
       "        text-align: right;\n",
       "    }\n",
       "</style>\n",
       "<table border=\"1\" class=\"dataframe\">\n",
       "  <thead>\n",
       "    <tr style=\"text-align: right;\">\n",
       "      <th></th>\n",
       "      <th>type</th>\n",
       "      <th>Volume_agg</th>\n",
       "      <th>Calories_agg</th>\n",
       "      <th>Caffeine_agg</th>\n",
       "    </tr>\n",
       "  </thead>\n",
       "  <tbody>\n",
       "    <tr>\n",
       "      <th>0</th>\n",
       "      <td>Coffee</td>\n",
       "      <td>335.870855</td>\n",
       "      <td>73.497110</td>\n",
       "      <td>200.589595</td>\n",
       "    </tr>\n",
       "    <tr>\n",
       "      <th>1</th>\n",
       "      <td>Energy Shots</td>\n",
       "      <td>57.742259</td>\n",
       "      <td>16.500000</td>\n",
       "      <td>193.416667</td>\n",
       "    </tr>\n",
       "    <tr>\n",
       "      <th>2</th>\n",
       "      <td>Energy Drinks</td>\n",
       "      <td>388.971198</td>\n",
       "      <td>86.671233</td>\n",
       "      <td>147.867580</td>\n",
       "    </tr>\n",
       "    <tr>\n",
       "      <th>3</th>\n",
       "      <td>Tea</td>\n",
       "      <td>360.474080</td>\n",
       "      <td>52.757576</td>\n",
       "      <td>55.863636</td>\n",
       "    </tr>\n",
       "    <tr>\n",
       "      <th>4</th>\n",
       "      <td>Water</td>\n",
       "      <td>394.590111</td>\n",
       "      <td>11.538462</td>\n",
       "      <td>53.730769</td>\n",
       "    </tr>\n",
       "  </tbody>\n",
       "</table>\n",
       "</div>"
      ],
      "text/plain": [
       "            type  Volume_agg  Calories_agg  Caffeine_agg\n",
       "0         Coffee  335.870855     73.497110    200.589595\n",
       "1   Energy Shots   57.742259     16.500000    193.416667\n",
       "2  Energy Drinks  388.971198     86.671233    147.867580\n",
       "3            Tea  360.474080     52.757576     55.863636\n",
       "4          Water  394.590111     11.538462     53.730769"
      ]
     },
     "execution_count": 2,
     "metadata": {},
     "output_type": "execute_result"
    }
   ],
   "source": [
    "data = pd.read_csv(\"grouped_d.csv\")\n",
    "data.head()"
   ]
  },
  {
   "cell_type": "code",
   "execution_count": 3,
   "id": "07d22340",
   "metadata": {},
   "outputs": [],
   "source": [
    "#visualiser Volume,Calories et Caffeine"
   ]
  },
  {
   "cell_type": "code",
   "execution_count": 5,
   "id": "b2b12c69",
   "metadata": {},
   "outputs": [
    {
     "data": {
      "image/png": "[encoded data removed]",
      "text/plain": [
       "<Figure size 432x288 with 1 Axes>"
      ]
     },
     "metadata": {
      "needs_background": "light"
     },
     "output_type": "display_data"
    }
   ],
   "source": [
    "plt.subplot()\n",
    "data.Volume_agg.plot(kind='line',color='g',label='Volume',linewidth=1,linestyle='-')\n",
    "data.Calories_agg.plot(color='red',label='Calories',linewidth=1,linestyle='-')\n",
    "data.Caffeine_agg.plot(color='blue',label='Caffeine',linewidth=1,linestyle='-')\n",
    "plt.legend(loc='best')\n",
    "plt.xlabel('drinks content')\n",
    "plt.title('line plot')\n",
    "plt.show()"
   ]
  },
  {
   "cell_type": "code",
   "execution_count": null,
   "id": "e579a026",
   "metadata": {},
   "outputs": [],
   "source": []
  }
 ],
 "metadata": {
  "kernelspec": {
   "display_name": "Python 3 (ipykernel)",
   "language": "python",
   "name": "python3"
  },
  "language_info": {
   "codemirror_mode": {
    "name": "ipython",
    "version": 3
   },
   "file_extension": ".py",
   "mimetype": "text/x-python",
   "name": "python",
   "nbconvert_exporter": "python",
   "pygments_lexer": "ipython3",
   "version": "3.8.8"
  }
 },
 "nbformat": 4,
 "nbformat_minor": 5
}
