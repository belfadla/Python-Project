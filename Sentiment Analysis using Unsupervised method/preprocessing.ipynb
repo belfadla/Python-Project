{
 "cells": [
  {
   "cell_type": "code",
   "execution_count": 41,
   "id": "9b5d7385",
   "metadata": {},
   "outputs": [],
   "source": [
    "import pandas as pd\n",
    "import numpy as np\n",
    "import re\n",
    "from re import sub\n",
    "import multiprocessing\n",
    "from unidecode import unidecode\n",
    "\n",
    "from gensim.models.phrases import Phrases, Phraser\n",
    "from gensim.models import Word2Vec\n",
    "from gensim.test.utils import get_tmpfile\n",
    "from gensim.models import KeyedVectors\n",
    "\n",
    "\n",
    "from time import time \n",
    "from collections import defaultdict\n",
    "\n",
    "\n",
    "import pyarabic.araby as araby\n",
    "\n",
    "from tashaphyne.stemming import ArabicLightStemmer\n",
    "import unicodedata\n",
    "from nltk import  word_tokenize\n",
    "from gensim.models.phrases import Phrases, Phraser\n",
    "from gensim.models import Word2Vec\n",
    "from gensim.test.utils import get_tmpfile\n",
    "from gensim.models import KeyedVectors"
   ]
  },
  {
   "cell_type": "code",
   "execution_count": 42,
   "id": "d48c328d",
   "metadata": {},
   "outputs": [],
   "source": [
    "file = pd.read_csv(\"Data.csv\")\n",
    "file_cleaned = file.dropna().drop_duplicates().reset_index(drop=True).rename(columns={'banque':'review'})"
   ]
  },
  {
   "cell_type": "code",
   "execution_count": 43,
   "id": "7be0ac4b",
   "metadata": {},
   "outputs": [
    {
     "data": {
      "image/png": "[encoded data removed]",
      "text/plain": [
       "<Figure size 432x288 with 1 Axes>"
      ]
     },
     "metadata": {
      "needs_background": "light"
     },
     "output_type": "display_data"
    }
   ],
   "source": [
    "# count of each type \n",
    "ax = file_cleaned['polarity'].value_counts().plot(kind='bar',\n",
    "                                    \n",
    "                                    color= '#ff7f0e',\n",
    "                                    title=\"Counts of each types\")\n",
    "ax.set_xlabel('Type')\n",
    "ax.set_ylabel('Count');"
   ]
  },
  {
   "cell_type": "code",
   "execution_count": 44,
   "id": "5b8100d0",
   "metadata": {},
   "outputs": [],
   "source": [
    "import codecs\n",
    "def get_stop_words():\n",
    "    path = r\"C:/Users/belfa/sentiment2/stop-words-list.txt\"\n",
    "    stop_words = []\n",
    "    with codecs.open(path, \"r\", encoding=\"utf-8\", errors=\"ignore\") as myfile:\n",
    "        stop_words = myfile.readlines()\n",
    "    stop_words = [word.strip() for word in stop_words]\n",
    "    return stop_words\n",
    "def remove_stp_words(text):\n",
    "    text_words = []\n",
    "    words = text.split(\" \")\n",
    "    stop_words = get_stop_words()\n",
    "    for word in words:\n",
    "        if word not in stop_words and len(word)>2:\n",
    "            text_words.append(word)\n",
    "    return ' '.join(text_words)\n",
    "#Stemmer_LIGHT : Remove suffixes and affixes \n",
    "ArListem = ArabicLightStemmer()\n",
    "def light_stemming(text):\n",
    "    text_words = []\n",
    "    words = text.split(\" \")\n",
    "    for c in words:\n",
    "        stem = ArListem.light_stem(c)\n",
    "        text_words.append(stem)\n",
    "    return ' '.join(text_words)\n",
    "def tokenization(text):\n",
    "    return set(word_tokenize(text)) "
   ]
  },
  {
   "cell_type": "code",
   "execution_count": 45,
   "id": "8e1babe6",
   "metadata": {},
   "outputs": [],
   "source": [
    "def clean_text(text):  \n",
    "    # ref: https://github.com/bakrianoo/aravec\n",
    "    search = [\"أ\",\"إ\",\"آ\",\"ة\",\"_\",\"-\",\"/\",\".\",\"،\",\" و \",\" يا \",'\"',\"ـ\",\"'\",\"ى\",\n",
    "              \"\\\\\",'\\n', '\\t','&quot;','?','؟','!']\n",
    "    replace = [\"ا\",\"ا\",\"ا\",\"ه\",\" \",\" \",\"\",\"\",\"\",\" و\",\" يا\",\n",
    "               \"\",\"\",\"\",\"ي\",\"\",' ', ' ',' ',' ? ',' ؟ ', ' ! ']\n",
    "    \n",
    "    tashkeel = re.compile(r'[\\u0617-\\u061A\\u064B-\\u0652]')\n",
    "    text = re.sub(tashkeel,\"\", text)\n",
    "    \n",
    "    longation = re.compile(r'(.)\\1+')\n",
    "    subst = r\"\\1\\1\"\n",
    "    text = re.sub(longation, subst, text)\n",
    "    \n",
    "    text = re.sub(r\"[^\\w\\s]\", '', text)\n",
    "    text = re.sub(r\"[a-zA-Z]\", '', text)\n",
    "    text = re.sub(r\"\\d+\", ' ', text)\n",
    "    text = re.sub(r\"\\n+\", ' ', text)\n",
    "    text = re.sub(r\"\\t+\", ' ', text)\n",
    "    text = re.sub(r\"\\r+\", ' ', text)\n",
    "    text = re.sub(r\"\\s+\", ' ', text)\n",
    "    text = text.replace('وو', 'و')\n",
    "    text = text.replace('يي', 'ي')\n",
    "    text = text.replace('اا', 'ا')\n",
    "    \n",
    "    for i in range(0, len(search)):\n",
    "        text = text.replace(search[i], replace[i])\n",
    "    text = text.strip()\n",
    "    text=remove_stp_words(text)\n",
    "    text=tokenization(text)\n",
    "    return text "
   ]
  },
  {
   "cell_type": "code",
   "execution_count": 46,
   "id": "bec935ee",
   "metadata": {},
   "outputs": [],
   "source": [
    "file_cleaned['cleaned_text']= file_cleaned['review'].apply(clean_text)\n"
   ]
  },
  {
   "cell_type": "code",
   "execution_count": 47,
   "id": "099df6f2",
   "metadata": {},
   "outputs": [
    {
     "data": {
      "text/html": [
       "<div>\n",
       "<style scoped>\n",
       "    .dataframe tbody tr th:only-of-type {\n",
       "        vertical-align: middle;\n",
       "    }\n",
       "\n",
       "    .dataframe tbody tr th {\n",
       "        vertical-align: top;\n",
       "    }\n",
       "\n",
       "    .dataframe thead th {\n",
       "        text-align: right;\n",
       "    }\n",
       "</style>\n",
       "<table border=\"1\" class=\"dataframe\">\n",
       "  <thead>\n",
       "    <tr style=\"text-align: right;\">\n",
       "      <th></th>\n",
       "      <th>review</th>\n",
       "      <th>polarity</th>\n",
       "      <th>cleaned_text</th>\n",
       "    </tr>\n",
       "  </thead>\n",
       "  <tbody>\n",
       "    <tr>\n",
       "      <th>0</th>\n",
       "      <td>تطبيق جيد، بسيط وفعال لي أنصح بشدة لجميع مالكي...</td>\n",
       "      <td>1.0</td>\n",
       "      <td>{مالكي, بشده, وفعال, تطبيق, انصح, البنك, جيد, ...</td>\n",
       "    </tr>\n",
       "    <tr>\n",
       "      <th>1</th>\n",
       "      <td>فعال</td>\n",
       "      <td>1.0</td>\n",
       "      <td>{فعال}</td>\n",
       "    </tr>\n",
       "    <tr>\n",
       "      <th>2</th>\n",
       "      <td>أوصي بشدة جميع مالكي الحساب في هذا البنك الجيد...</td>\n",
       "      <td>1.0</td>\n",
       "      <td>{مالكي, بشده, الجيد, البنك, الحساب, اوصي}</td>\n",
       "    </tr>\n",
       "    <tr>\n",
       "      <th>3</th>\n",
       "      <td>بنك  جيد جدا!</td>\n",
       "      <td>1.0</td>\n",
       "      <td>{بنك, جيد}</td>\n",
       "    </tr>\n",
       "    <tr>\n",
       "      <th>4</th>\n",
       "      <td>علة سيئة!</td>\n",
       "      <td>-1.0</td>\n",
       "      <td>{عله, سيئه}</td>\n",
       "    </tr>\n",
       "    <tr>\n",
       "      <th>...</th>\n",
       "      <td>...</td>\n",
       "      <td>...</td>\n",
       "      <td>...</td>\n",
       "    </tr>\n",
       "    <tr>\n",
       "      <th>237</th>\n",
       "      <td>وكالات  الشركة غير متواجدة بكل مكان</td>\n",
       "      <td>-1.0</td>\n",
       "      <td>{وكالات, الشركه, متواجده, بكل, مكان}</td>\n",
       "    </tr>\n",
       "    <tr>\n",
       "      <th>238</th>\n",
       "      <td>ينقصه. الخدمات</td>\n",
       "      <td>-1.0</td>\n",
       "      <td>{الخدمات, ينقصه}</td>\n",
       "    </tr>\n",
       "    <tr>\n",
       "      <th>239</th>\n",
       "      <td>،انا جربتهم كاملين سيرفس ديالهم زوين</td>\n",
       "      <td>1.0</td>\n",
       "      <td>{انا, سيرفس, جربتهم, كاملين, ديالهم, زوين}</td>\n",
       "    </tr>\n",
       "    <tr>\n",
       "      <th>240</th>\n",
       "      <td>ابليكاسيون ديالك كايكون  فيها شخص لي مكلف بيك ...</td>\n",
       "      <td>1.0</td>\n",
       "      <td>{مشكل, شخص, ديالك, مكلف, بيه, تتاصل, مكتحتاج, ...</td>\n",
       "    </tr>\n",
       "    <tr>\n",
       "      <th>241</th>\n",
       "      <td>و كتبقا cih bank احسن بنك وشكران</td>\n",
       "      <td>1.0</td>\n",
       "      <td>{كتبقا, وشكران, بنك, احسن}</td>\n",
       "    </tr>\n",
       "  </tbody>\n",
       "</table>\n",
       "<p>242 rows × 3 columns</p>\n",
       "</div>"
      ],
      "text/plain": [
       "                                                review  polarity  \\\n",
       "0    تطبيق جيد، بسيط وفعال لي أنصح بشدة لجميع مالكي...       1.0   \n",
       "1                                                 فعال       1.0   \n",
       "2    أوصي بشدة جميع مالكي الحساب في هذا البنك الجيد...       1.0   \n",
       "3                                        بنك  جيد جدا!       1.0   \n",
       "4                                            علة سيئة!      -1.0   \n",
       "..                                                 ...       ...   \n",
       "237                وكالات  الشركة غير متواجدة بكل مكان      -1.0   \n",
       "238                                     ينقصه. الخدمات      -1.0   \n",
       "239              ،انا جربتهم كاملين سيرفس ديالهم زوين        1.0   \n",
       "240  ابليكاسيون ديالك كايكون  فيها شخص لي مكلف بيك ...       1.0   \n",
       "241                   و كتبقا cih bank احسن بنك وشكران       1.0   \n",
       "\n",
       "                                          cleaned_text  \n",
       "0    {مالكي, بشده, وفعال, تطبيق, انصح, البنك, جيد, ...  \n",
       "1                                               {فعال}  \n",
       "2            {مالكي, بشده, الجيد, البنك, الحساب, اوصي}  \n",
       "3                                           {بنك, جيد}  \n",
       "4                                          {عله, سيئه}  \n",
       "..                                                 ...  \n",
       "237               {وكالات, الشركه, متواجده, بكل, مكان}  \n",
       "238                                   {الخدمات, ينقصه}  \n",
       "239         {انا, سيرفس, جربتهم, كاملين, ديالهم, زوين}  \n",
       "240  {مشكل, شخص, ديالك, مكلف, بيه, تتاصل, مكتحتاج, ...  \n",
       "241                         {كتبقا, وشكران, بنك, احسن}  \n",
       "\n",
       "[242 rows x 3 columns]"
      ]
     },
     "execution_count": 47,
     "metadata": {},
     "output_type": "execute_result"
    }
   ],
   "source": [
    "file_cleaned"
   ]
  },
  {
   "cell_type": "code",
   "execution_count": 48,
   "id": "ef6a3cc8",
   "metadata": {},
   "outputs": [],
   "source": [
    "file_model = file_cleaned.copy()\n",
    "file_model = file_model[file_model.review.str.len()>1]"
   ]
  },
  {
   "cell_type": "code",
   "execution_count": 49,
   "id": "bda213b3",
   "metadata": {},
   "outputs": [
    {
     "data": {
      "text/html": [
       "<div>\n",
       "<style scoped>\n",
       "    .dataframe tbody tr th:only-of-type {\n",
       "        vertical-align: middle;\n",
       "    }\n",
       "\n",
       "    .dataframe tbody tr th {\n",
       "        vertical-align: top;\n",
       "    }\n",
       "\n",
       "    .dataframe thead th {\n",
       "        text-align: right;\n",
       "    }\n",
       "</style>\n",
       "<table border=\"1\" class=\"dataframe\">\n",
       "  <thead>\n",
       "    <tr style=\"text-align: right;\">\n",
       "      <th></th>\n",
       "      <th>review</th>\n",
       "      <th>polarity</th>\n",
       "      <th>cleaned_text</th>\n",
       "    </tr>\n",
       "  </thead>\n",
       "  <tbody>\n",
       "    <tr>\n",
       "      <th>0</th>\n",
       "      <td>تطبيق جيد، بسيط وفعال لي أنصح بشدة لجميع مالكي...</td>\n",
       "      <td>1.0</td>\n",
       "      <td>{مالكي, بشده, وفعال, تطبيق, انصح, البنك, جيد, ...</td>\n",
       "    </tr>\n",
       "    <tr>\n",
       "      <th>1</th>\n",
       "      <td>فعال</td>\n",
       "      <td>1.0</td>\n",
       "      <td>{فعال}</td>\n",
       "    </tr>\n",
       "    <tr>\n",
       "      <th>2</th>\n",
       "      <td>أوصي بشدة جميع مالكي الحساب في هذا البنك الجيد...</td>\n",
       "      <td>1.0</td>\n",
       "      <td>{مالكي, بشده, الجيد, البنك, الحساب, اوصي}</td>\n",
       "    </tr>\n",
       "    <tr>\n",
       "      <th>3</th>\n",
       "      <td>بنك  جيد جدا!</td>\n",
       "      <td>1.0</td>\n",
       "      <td>{بنك, جيد}</td>\n",
       "    </tr>\n",
       "    <tr>\n",
       "      <th>4</th>\n",
       "      <td>علة سيئة!</td>\n",
       "      <td>-1.0</td>\n",
       "      <td>{عله, سيئه}</td>\n",
       "    </tr>\n",
       "    <tr>\n",
       "      <th>...</th>\n",
       "      <td>...</td>\n",
       "      <td>...</td>\n",
       "      <td>...</td>\n",
       "    </tr>\n",
       "    <tr>\n",
       "      <th>237</th>\n",
       "      <td>وكالات  الشركة غير متواجدة بكل مكان</td>\n",
       "      <td>-1.0</td>\n",
       "      <td>{وكالات, الشركه, متواجده, بكل, مكان}</td>\n",
       "    </tr>\n",
       "    <tr>\n",
       "      <th>238</th>\n",
       "      <td>ينقصه. الخدمات</td>\n",
       "      <td>-1.0</td>\n",
       "      <td>{الخدمات, ينقصه}</td>\n",
       "    </tr>\n",
       "    <tr>\n",
       "      <th>239</th>\n",
       "      <td>،انا جربتهم كاملين سيرفس ديالهم زوين</td>\n",
       "      <td>1.0</td>\n",
       "      <td>{انا, سيرفس, جربتهم, كاملين, ديالهم, زوين}</td>\n",
       "    </tr>\n",
       "    <tr>\n",
       "      <th>240</th>\n",
       "      <td>ابليكاسيون ديالك كايكون  فيها شخص لي مكلف بيك ...</td>\n",
       "      <td>1.0</td>\n",
       "      <td>{مشكل, شخص, ديالك, مكلف, بيه, تتاصل, مكتحتاج, ...</td>\n",
       "    </tr>\n",
       "    <tr>\n",
       "      <th>241</th>\n",
       "      <td>و كتبقا cih bank احسن بنك وشكران</td>\n",
       "      <td>1.0</td>\n",
       "      <td>{كتبقا, وشكران, بنك, احسن}</td>\n",
       "    </tr>\n",
       "  </tbody>\n",
       "</table>\n",
       "<p>242 rows × 3 columns</p>\n",
       "</div>"
      ],
      "text/plain": [
       "                                                review  polarity  \\\n",
       "0    تطبيق جيد، بسيط وفعال لي أنصح بشدة لجميع مالكي...       1.0   \n",
       "1                                                 فعال       1.0   \n",
       "2    أوصي بشدة جميع مالكي الحساب في هذا البنك الجيد...       1.0   \n",
       "3                                        بنك  جيد جدا!       1.0   \n",
       "4                                            علة سيئة!      -1.0   \n",
       "..                                                 ...       ...   \n",
       "237                وكالات  الشركة غير متواجدة بكل مكان      -1.0   \n",
       "238                                     ينقصه. الخدمات      -1.0   \n",
       "239              ،انا جربتهم كاملين سيرفس ديالهم زوين        1.0   \n",
       "240  ابليكاسيون ديالك كايكون  فيها شخص لي مكلف بيك ...       1.0   \n",
       "241                   و كتبقا cih bank احسن بنك وشكران       1.0   \n",
       "\n",
       "                                          cleaned_text  \n",
       "0    {مالكي, بشده, وفعال, تطبيق, انصح, البنك, جيد, ...  \n",
       "1                                               {فعال}  \n",
       "2            {مالكي, بشده, الجيد, البنك, الحساب, اوصي}  \n",
       "3                                           {بنك, جيد}  \n",
       "4                                          {عله, سيئه}  \n",
       "..                                                 ...  \n",
       "237               {وكالات, الشركه, متواجده, بكل, مكان}  \n",
       "238                                   {الخدمات, ينقصه}  \n",
       "239         {انا, سيرفس, جربتهم, كاملين, ديالهم, زوين}  \n",
       "240  {مشكل, شخص, ديالك, مكلف, بيه, تتاصل, مكتحتاج, ...  \n",
       "241                         {كتبقا, وشكران, بنك, احسن}  \n",
       "\n",
       "[242 rows x 3 columns]"
      ]
     },
     "execution_count": 49,
     "metadata": {},
     "output_type": "execute_result"
    }
   ],
   "source": [
    "file_cleaned"
   ]
  },
  {
   "cell_type": "code",
   "execution_count": 50,
   "id": "b189a341",
   "metadata": {},
   "outputs": [
    {
     "data": {
      "text/plain": [
       "['مالكي', 'بشده', 'الجيد', 'البنك', 'الحساب', 'اوصي']"
      ]
     },
     "execution_count": 50,
     "metadata": {},
     "output_type": "execute_result"
    }
   ],
   "source": [
    "sent = [row for row in file_model.cleaned_text]\n",
    "phrases = Phrases(sent, min_count=2, progress_per=10000)\n",
    "bigram = Phraser(phrases)\n",
    "sentences = bigram[sent]\n",
    "sentences[2]\n"
   ]
  },
  {
   "cell_type": "code",
   "execution_count": 51,
   "id": "df96534a",
   "metadata": {},
   "outputs": [],
   "source": [
    "import multiprocessing\n",
    "\n",
    "from gensim.models import Word2Vec"
   ]
  },
  {
   "cell_type": "code",
   "execution_count": 52,
   "id": "78619a88",
   "metadata": {},
   "outputs": [],
   "source": [
    "cores = multiprocessing.cpu_count() # Count the number of cores in a computer"
   ]
  },
  {
   "cell_type": "code",
   "execution_count": 53,
   "id": "7ffa9aa3",
   "metadata": {},
   "outputs": [],
   "source": [
    "w2v_model = Word2Vec(min_count=2,\n",
    "                     window=3,\n",
    "                     vector_size=300,\n",
    "                     sample=1e-5, \n",
    "                     alpha=0, \n",
    "                     #min_alpha=0.0007, \n",
    "                     negative=30,\n",
    "                     workers=multiprocessing.cpu_count()-1)"
   ]
  },
  {
   "cell_type": "code",
   "execution_count": 54,
   "id": "ce686f2f",
   "metadata": {},
   "outputs": [
    {
     "name": "stdout",
     "output_type": "stream",
     "text": [
      "Time to build vocab: 0.0 mins\n"
     ]
    }
   ],
   "source": [
    "t = time()\n",
    "\n",
    "w2v_model.build_vocab(sentences, progress_per=50000)\n",
    "\n",
    "print('Time to build vocab: {} mins'.format(round((time() - t) / 60, 2)))"
   ]
  },
  {
   "cell_type": "code",
   "execution_count": 55,
   "id": "7bcee692",
   "metadata": {},
   "outputs": [
    {
     "name": "stdout",
     "output_type": "stream",
     "text": [
      "Time to train the model: 0.0 mins\n"
     ]
    }
   ],
   "source": [
    "t = time()\n",
    "\n",
    "w2v_model.train(sentences, total_examples=w2v_model.corpus_count, epochs=30, report_delay=1)\n",
    "\n",
    "print('Time to train the model: {} mins'.format(round((time() - t) / 60, 2)))"
   ]
  },
  {
   "cell_type": "code",
   "execution_count": 56,
   "id": "cd77770b",
   "metadata": {},
   "outputs": [
    {
     "name": "stderr",
     "output_type": "stream",
     "text": [
      "<ipython-input-56-c7757d71a30b>:1: DeprecationWarning: Call to deprecated `init_sims` (Gensim 4.0.0 implemented internal optimizations that make calls to init_sims() unnecessary. init_sims() is now obsoleted and will be completely removed in future versions. See https://github.com/RaRe-Technologies/gensim/wiki/Migrating-from-Gensim-3.x-to-4).\n",
      "  w2v_model.init_sims(replace=True)\n"
     ]
    }
   ],
   "source": [
    "w2v_model.init_sims(replace=True)"
   ]
  },
  {
   "cell_type": "code",
   "execution_count": 57,
   "id": "cef31530",
   "metadata": {},
   "outputs": [
    {
     "data": {
      "text/plain": [
       "[('جربتهم', 0.173588827252388),\n",
       " ('شفاره', 0.12867474555969238),\n",
       " ('مره', 0.10709137469530106),\n",
       " ('اكفس', 0.10297222435474396),\n",
       " ('فاشل', 0.10228625684976578),\n",
       " ('لقد', 0.09536117315292358),\n",
       " ('عيب', 0.09428811073303223),\n",
       " ('راه', 0.09251716732978821),\n",
       " ('امل', 0.0917428508400917),\n",
       " ('حساب', 0.08872448652982712)]"
      ]
     },
     "execution_count": 57,
     "metadata": {},
     "output_type": "execute_result"
    }
   ],
   "source": [
    "w2v_model.wv.most_similar(positive=[\"احسن\"])"
   ]
  },
  {
   "cell_type": "code",
   "execution_count": 58,
   "id": "d6391a3b",
   "metadata": {},
   "outputs": [],
   "source": [
    "w2v_model.save(\"word2vec.model\")"
   ]
  },
  {
   "cell_type": "code",
   "execution_count": 59,
   "id": "dbabcb82",
   "metadata": {},
   "outputs": [],
   "source": [
    "file_export = file_model.copy()\n",
    "file_export['text'] = file_export.cleaned_text\n",
    "file_export.text = file_export.text.str.join(' ')\n",
    "#file_export.review = file_export.review.apply(lambda x: ' '.join(bigram[x]))\n",
    "file_export.polarity = file_export.polarity.astype('int8')"
   ]
  },
  {
   "cell_type": "code",
   "execution_count": 60,
   "id": "ea8da68a",
   "metadata": {},
   "outputs": [],
   "source": [
    "#file_cleaned.to_csv('cleaned_data.csv', encoding='utf-8-sig')"
   ]
  },
  {
   "cell_type": "code",
   "execution_count": null,
   "id": "6d448f94",
   "metadata": {},
   "outputs": [],
   "source": []
  }
 ],
 "metadata": {
  "kernelspec": {
   "display_name": "Python 3 (ipykernel)",
   "language": "python",
   "name": "python3"
  },
  "language_info": {
   "codemirror_mode": {
    "name": "ipython",
    "version": 3
   },
   "file_extension": ".py",
   "mimetype": "text/x-python",
   "name": "python",
   "nbconvert_exporter": "python",
   "pygments_lexer": "ipython3",
   "version": "3.8.8"
  }
 },
 "nbformat": 4,
 "nbformat_minor": 5
}
