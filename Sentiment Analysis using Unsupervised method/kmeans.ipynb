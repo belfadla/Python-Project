{
 "cells": [
  {
   "cell_type": "code",
   "execution_count": 31,
   "id": "baef6125",
   "metadata": {},
   "outputs": [],
   "source": [
    "import pandas as pd\n",
    "import numpy as np\n",
    "from gensim.models import Word2Vec\n",
    "from sklearn.cluster import KMeans"
   ]
  },
  {
   "cell_type": "code",
   "execution_count": 32,
   "id": "ca19d64d",
   "metadata": {},
   "outputs": [],
   "source": [
    "word_vectors = Word2Vec.load(\"word2veC.model\").wv"
   ]
  },
  {
   "cell_type": "code",
   "execution_count": 33,
   "id": "6c680a55",
   "metadata": {},
   "outputs": [],
   "source": [
    "model = KMeans(n_clusters=2, max_iter=10000, random_state=True, n_init=300).fit(X=word_vectors.vectors.astype('double'))"
   ]
  },
  {
   "cell_type": "code",
   "execution_count": 34,
   "id": "208e1230",
   "metadata": {},
   "outputs": [
    {
     "data": {
      "text/plain": [
       "[('الاستخدام', 0.29578840732574463),\n",
       " ('خدمات', 0.25012296438217163),\n",
       " ('العيون', 0.21679577231407166),\n",
       " ('مشكل', 0.21069826185703278),\n",
       " ('شخصيه', 0.20491507649421692),\n",
       " ('اجراء', 0.18483972549438477),\n",
       " ('المدينه', 0.18343444168567657),\n",
       " ('الاقتطاعات', 0.18326526880264282),\n",
       " ('ديالكم', 0.18043167889118195),\n",
       " ('زيدو', 0.17894932627677917)]"
      ]
     },
     "execution_count": 34,
     "metadata": {},
     "output_type": "execute_result"
    }
   ],
   "source": [
    "word_vectors.similar_by_vector(model.cluster_centers_[1], topn=10, restrict_vocab=None)"
   ]
  },
  {
   "cell_type": "code",
   "execution_count": 35,
   "id": "4021189d",
   "metadata": {},
   "outputs": [],
   "source": [
    "positive_cluster_index = 1\n",
    "positive_cluster_center = model.cluster_centers_[positive_cluster_index]\n",
    "negative_cluster_center = model.cluster_centers_[1-positive_cluster_index]"
   ]
  },
  {
   "cell_type": "code",
   "execution_count": 36,
   "id": "5ae84bb5",
   "metadata": {},
   "outputs": [],
   "source": [
    "words = pd.DataFrame(word_vectors.key_to_index.keys())\n",
    "words.columns = ['words']\n",
    "words['vectors'] = words.words.apply(lambda x: word_vectors[f'{x}'])\n",
    "words['cluster'] = words.vectors.apply(lambda x: model.predict([np.array(x)]))\n",
    "words.cluster = words.cluster.apply(lambda x: x[0])"
   ]
  },
  {
   "cell_type": "code",
   "execution_count": 37,
   "id": "59b25f28",
   "metadata": {},
   "outputs": [],
   "source": [
    "words['cluster_value'] = [1 if i==positive_cluster_index else -1 for i in words.cluster]\n",
    "words['closeness_score'] = words.apply(lambda x: 1/(model.transform([x.vectors]).min()), axis=1)\n",
    "words['sentiment_coeff'] = words.closeness_score * words.cluster_value"
   ]
  },
  {
   "cell_type": "code",
   "execution_count": 38,
   "id": "81ab3986",
   "metadata": {},
   "outputs": [
    {
     "data": {
      "text/html": [
       "<div>\n",
       "<style scoped>\n",
       "    .dataframe tbody tr th:only-of-type {\n",
       "        vertical-align: middle;\n",
       "    }\n",
       "\n",
       "    .dataframe tbody tr th {\n",
       "        vertical-align: top;\n",
       "    }\n",
       "\n",
       "    .dataframe thead th {\n",
       "        text-align: right;\n",
       "    }\n",
       "</style>\n",
       "<table border=\"1\" class=\"dataframe\">\n",
       "  <thead>\n",
       "    <tr style=\"text-align: right;\">\n",
       "      <th></th>\n",
       "      <th>words</th>\n",
       "      <th>vectors</th>\n",
       "      <th>cluster</th>\n",
       "      <th>cluster_value</th>\n",
       "      <th>closeness_score</th>\n",
       "      <th>sentiment_coeff</th>\n",
       "    </tr>\n",
       "  </thead>\n",
       "  <tbody>\n",
       "    <tr>\n",
       "      <th>0</th>\n",
       "      <td>بنك</td>\n",
       "      <td>[-0.005418994, 0.002389341, 0.051573362, 0.091...</td>\n",
       "      <td>1</td>\n",
       "      <td>1</td>\n",
       "      <td>0.999916</td>\n",
       "      <td>0.999916</td>\n",
       "    </tr>\n",
       "    <tr>\n",
       "      <th>1</th>\n",
       "      <td>جيد</td>\n",
       "      <td>[-0.07970168, 0.0899191, -0.0019112608, -0.019...</td>\n",
       "      <td>1</td>\n",
       "      <td>1</td>\n",
       "      <td>1.013212</td>\n",
       "      <td>1.013212</td>\n",
       "    </tr>\n",
       "    <tr>\n",
       "      <th>2</th>\n",
       "      <td>تطبيق</td>\n",
       "      <td>[0.08337512, -0.045698285, -0.010953214, 0.010...</td>\n",
       "      <td>1</td>\n",
       "      <td>1</td>\n",
       "      <td>1.013912</td>\n",
       "      <td>1.013912</td>\n",
       "    </tr>\n",
       "    <tr>\n",
       "      <th>3</th>\n",
       "      <td>التطبيق</td>\n",
       "      <td>[-0.05294934, -0.06847699, -0.07986015, 0.0853...</td>\n",
       "      <td>1</td>\n",
       "      <td>1</td>\n",
       "      <td>1.010318</td>\n",
       "      <td>1.010318</td>\n",
       "    </tr>\n",
       "    <tr>\n",
       "      <th>4</th>\n",
       "      <td>انا</td>\n",
       "      <td>[-0.018948032, -0.051336423, 0.09207003, -0.09...</td>\n",
       "      <td>0</td>\n",
       "      <td>-1</td>\n",
       "      <td>1.005417</td>\n",
       "      <td>-1.005417</td>\n",
       "    </tr>\n",
       "    <tr>\n",
       "      <th>5</th>\n",
       "      <td>خدمه</td>\n",
       "      <td>[-0.06750204, 0.039734527, 0.02030797, 0.06984...</td>\n",
       "      <td>1</td>\n",
       "      <td>1</td>\n",
       "      <td>1.012992</td>\n",
       "      <td>1.012992</td>\n",
       "    </tr>\n",
       "    <tr>\n",
       "      <th>6</th>\n",
       "      <td>البنك</td>\n",
       "      <td>[0.10026633, -0.10072809, -0.0669382, 0.028670...</td>\n",
       "      <td>1</td>\n",
       "      <td>1</td>\n",
       "      <td>1.006440</td>\n",
       "      <td>1.006440</td>\n",
       "    </tr>\n",
       "    <tr>\n",
       "      <th>7</th>\n",
       "      <td>للغايه</td>\n",
       "      <td>[0.0132997045, 0.06528323, 0.099654704, 0.0904...</td>\n",
       "      <td>0</td>\n",
       "      <td>-1</td>\n",
       "      <td>1.013953</td>\n",
       "      <td>-1.013953</td>\n",
       "    </tr>\n",
       "    <tr>\n",
       "      <th>8</th>\n",
       "      <td>الله</td>\n",
       "      <td>[-0.04926045, -0.012710415, 0.032492895, -0.06...</td>\n",
       "      <td>1</td>\n",
       "      <td>1</td>\n",
       "      <td>1.011944</td>\n",
       "      <td>1.011944</td>\n",
       "    </tr>\n",
       "    <tr>\n",
       "      <th>9</th>\n",
       "      <td>شيء</td>\n",
       "      <td>[0.0208533, 0.056586742, -0.020881848, 0.03129...</td>\n",
       "      <td>0</td>\n",
       "      <td>-1</td>\n",
       "      <td>1.009130</td>\n",
       "      <td>-1.009130</td>\n",
       "    </tr>\n",
       "  </tbody>\n",
       "</table>\n",
       "</div>"
      ],
      "text/plain": [
       "     words                                            vectors  cluster  \\\n",
       "0      بنك  [-0.005418994, 0.002389341, 0.051573362, 0.091...        1   \n",
       "1      جيد  [-0.07970168, 0.0899191, -0.0019112608, -0.019...        1   \n",
       "2    تطبيق  [0.08337512, -0.045698285, -0.010953214, 0.010...        1   \n",
       "3  التطبيق  [-0.05294934, -0.06847699, -0.07986015, 0.0853...        1   \n",
       "4      انا  [-0.018948032, -0.051336423, 0.09207003, -0.09...        0   \n",
       "5     خدمه  [-0.06750204, 0.039734527, 0.02030797, 0.06984...        1   \n",
       "6    البنك  [0.10026633, -0.10072809, -0.0669382, 0.028670...        1   \n",
       "7   للغايه  [0.0132997045, 0.06528323, 0.099654704, 0.0904...        0   \n",
       "8     الله  [-0.04926045, -0.012710415, 0.032492895, -0.06...        1   \n",
       "9      شيء  [0.0208533, 0.056586742, -0.020881848, 0.03129...        0   \n",
       "\n",
       "   cluster_value  closeness_score  sentiment_coeff  \n",
       "0              1         0.999916         0.999916  \n",
       "1              1         1.013212         1.013212  \n",
       "2              1         1.013912         1.013912  \n",
       "3              1         1.010318         1.010318  \n",
       "4             -1         1.005417        -1.005417  \n",
       "5              1         1.012992         1.012992  \n",
       "6              1         1.006440         1.006440  \n",
       "7             -1         1.013953        -1.013953  \n",
       "8              1         1.011944         1.011944  \n",
       "9             -1         1.009130        -1.009130  "
      ]
     },
     "execution_count": 38,
     "metadata": {},
     "output_type": "execute_result"
    }
   ],
   "source": [
    "words.head(10)"
   ]
  },
  {
   "cell_type": "code",
   "execution_count": 39,
   "id": "1a45dce0",
   "metadata": {},
   "outputs": [],
   "source": [
    "words[['words', 'sentiment_coeff']].to_csv('sentiment_dict.csv', index=False,encoding='utf-8-sig')"
   ]
  },
  {
   "cell_type": "code",
   "execution_count": null,
   "id": "45c995c1",
   "metadata": {},
   "outputs": [],
   "source": []
  }
 ],
 "metadata": {
  "kernelspec": {
   "display_name": "Python 3 (ipykernel)",
   "language": "python",
   "name": "python3"
  },
  "language_info": {
   "codemirror_mode": {
    "name": "ipython",
    "version": 3
   },
   "file_extension": ".py",
   "mimetype": "text/x-python",
   "name": "python",
   "nbconvert_exporter": "python",
   "pygments_lexer": "ipython3",
   "version": "3.8.8"
  }
 },
 "nbformat": 4,
 "nbformat_minor": 5
}
