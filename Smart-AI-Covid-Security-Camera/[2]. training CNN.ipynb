{
 "cells": [
  {
   "cell_type": "code",
   "execution_count": 1,
   "id": "18a56b6b",
   "metadata": {},
   "outputs": [],
   "source": [
    "import numpy as np\n",
    "#load the dataset that we just saved in the preprocessing code\n",
    "#loading the dataset into DATA & TARGET\n",
    "data=np.load('data.npy')\n",
    "target=np.load('target.npy')"
   ]
  },
  {
   "cell_type": "code",
   "execution_count": 2,
   "id": "72f4a3ad",
   "metadata": {},
   "outputs": [],
   "source": [
    "from keras.models import Sequential\n",
    "from keras.layers import Dense,Activation,Flatten,Dropout\n",
    "from keras.layers import Conv2D,MaxPooling2D\n",
    "from keras.callbacks import ModelCheckpoint\n",
    "\n",
    "model=Sequential()\n",
    "#Here in this Neural Network architecture this CNN uses first layer with 200 3x3 kernals\n",
    "#Followed by RELU \n",
    "#and next is the MaxPooling layer of size 2x2\n",
    "model.add(Conv2D(200,(3,3),input_shape=data.shape[1:]))\n",
    "model.add(Activation('relu'))\n",
    "model.add(MaxPooling2D(pool_size=(2,2)))\n",
    "\n",
    "#This is Second layer with 100 3x3 kernals\n",
    "#Followed by RELU \n",
    "#and next is the MaxPooling layer of size 2x2\n",
    "model.add(Conv2D(100,(3,3)))\n",
    "model.add(Activation('relu'))\n",
    "model.add(MaxPooling2D(pool_size=(2,2)))\n",
    "\n",
    "#Flatten layer to stack the output convolutions from second convolution layer\n",
    "#Flatten layer,dropout layer to get rid of over fitting as it reduces over fitting\n",
    "\n",
    "model.add(Flatten())\n",
    "model.add(Dropout(0.5))\n",
    "#Dense layer of 50 neurons\n",
    "model.add(Dense(64,activation='relu'))\n",
    "#Dense layer of 2 neurons\n",
    "model.add(Dense(2,activation='softmax'))\n",
    "\n",
    "#The Final layer with two outputs for two categories\n",
    "#Using adam optimizer to print accuracy while training\n",
    "\n",
    "model.compile(loss='categorical_crossentropy',optimizer='adam',metrics=['accuracy'])\n"
   ]
  },
  {
   "cell_type": "code",
   "execution_count": 3,
   "id": "4dd7d691",
   "metadata": {},
   "outputs": [],
   "source": [
    "#split into train and test\n",
    "\n",
    "\n",
    "from sklearn.model_selection import train_test_split\n",
    "\n",
    "train_data,test_data,train_target,test_target=train_test_split(data,target,test_size=0.1)"
   ]
  },
  {
   "cell_type": "code",
   "execution_count": 4,
   "id": "0d19fb7c",
   "metadata": {},
   "outputs": [
    {
     "name": "stdout",
     "output_type": "stream",
     "text": [
      "Epoch 1/20\n",
      "93/93 [==============================] - 148s 2s/step - loss: 0.6707 - accuracy: 0.6025 - val_loss: 0.5326 - val_accuracy: 0.7164\n",
      "INFO:tensorflow:Assets written to: model-001.model\\assets\n",
      "Epoch 2/20\n",
      "93/93 [==============================] - 142s 2s/step - loss: 0.4526 - accuracy: 0.7980 - val_loss: 0.5171 - val_accuracy: 0.7300\n",
      "INFO:tensorflow:Assets written to: model-002.model\\assets\n",
      "Epoch 3/20\n",
      "93/93 [==============================] - 141s 2s/step - loss: 0.3758 - accuracy: 0.8438 - val_loss: 0.3482 - val_accuracy: 0.8507\n",
      "INFO:tensorflow:Assets written to: model-003.model\\assets\n",
      "Epoch 4/20\n",
      "93/93 [==============================] - 145s 2s/step - loss: 0.2614 - accuracy: 0.8843 - val_loss: 0.2935 - val_accuracy: 0.8725\n",
      "INFO:tensorflow:Assets written to: model-004.model\\assets\n",
      "Epoch 5/20\n",
      "93/93 [==============================] - 142s 2s/step - loss: 0.1806 - accuracy: 0.9252 - val_loss: 0.3222 - val_accuracy: 0.8779\n",
      "Epoch 6/20\n",
      "93/93 [==============================] - 136s 1s/step - loss: 0.1386 - accuracy: 0.9420 - val_loss: 0.2876 - val_accuracy: 0.8860\n",
      "INFO:tensorflow:Assets written to: model-006.model\\assets\n",
      "Epoch 7/20\n",
      "93/93 [==============================] - 113s 1s/step - loss: 0.0901 - accuracy: 0.9682 - val_loss: 0.3239 - val_accuracy: 0.8806\n",
      "Epoch 8/20\n",
      "93/93 [==============================] - 113s 1s/step - loss: 0.0928 - accuracy: 0.9671 - val_loss: 0.4133 - val_accuracy: 0.8657\n",
      "Epoch 9/20\n",
      "93/93 [==============================] - 113s 1s/step - loss: 0.0931 - accuracy: 0.9647 - val_loss: 0.3498 - val_accuracy: 0.8915\n",
      "Epoch 10/20\n",
      "93/93 [==============================] - 113s 1s/step - loss: 0.0890 - accuracy: 0.9670 - val_loss: 0.3428 - val_accuracy: 0.8915\n",
      "Epoch 11/20\n",
      "93/93 [==============================] - 111s 1s/step - loss: 0.0463 - accuracy: 0.9864 - val_loss: 0.3750 - val_accuracy: 0.9050\n",
      "Epoch 12/20\n",
      "93/93 [==============================] - 113s 1s/step - loss: 0.0376 - accuracy: 0.9856 - val_loss: 0.3887 - val_accuracy: 0.9104\n",
      "Epoch 13/20\n",
      "93/93 [==============================] - 110s 1s/step - loss: 0.0229 - accuracy: 0.9933 - val_loss: 0.4228 - val_accuracy: 0.9037\n",
      "Epoch 14/20\n",
      "93/93 [==============================] - 108s 1s/step - loss: 0.0192 - accuracy: 0.9936 - val_loss: 0.4094 - val_accuracy: 0.9159\n",
      "Epoch 15/20\n",
      "93/93 [==============================] - 109s 1s/step - loss: 0.0218 - accuracy: 0.9928 - val_loss: 0.4037 - val_accuracy: 0.9037\n",
      "Epoch 16/20\n",
      "93/93 [==============================] - 108s 1s/step - loss: 0.0205 - accuracy: 0.9937 - val_loss: 0.4801 - val_accuracy: 0.9064\n",
      "Epoch 17/20\n",
      "93/93 [==============================] - 112s 1s/step - loss: 0.0371 - accuracy: 0.9876 - val_loss: 0.4345 - val_accuracy: 0.9037\n",
      "Epoch 18/20\n",
      "93/93 [==============================] - 112s 1s/step - loss: 0.0156 - accuracy: 0.9972 - val_loss: 0.4552 - val_accuracy: 0.9050\n",
      "Epoch 19/20\n",
      "93/93 [==============================] - 112s 1s/step - loss: 0.0132 - accuracy: 0.9973 - val_loss: 0.4482 - val_accuracy: 0.9037\n",
      "Epoch 20/20\n",
      "93/93 [==============================] - 108s 1s/step - loss: 0.0731 - accuracy: 0.9751 - val_loss: 0.4313 - val_accuracy: 0.9077\n"
     ]
    }
   ],
   "source": [
    "#create a model checkpoint to save and monitor the validation loss and save the best model for each epoch\n",
    "#if validation loss increase after a epoch it will not be saved,,\n",
    "#otherwise the saving the best model per each epoch\n",
    "\n",
    "checkpoint = ModelCheckpoint('model-{epoch:03d}.model',monitor='val_loss',verbose=0,save_best_only=True,mode='auto')\n",
    "#training using model.fit for 20 epochs,and 20% validation data\n",
    "history=model.fit(train_data,train_target,epochs=20,callbacks=[checkpoint],validation_split=0.2)"
   ]
  },
  {
   "cell_type": "code",
   "execution_count": 5,
   "id": "c6829c69",
   "metadata": {},
   "outputs": [
    {
     "data": {
      "image/png": "[encoded data removed]",
      "text/plain": [
       "<Figure size 432x288 with 1 Axes>"
      ]
     },
     "metadata": {
      "needs_background": "light"
     },
     "output_type": "display_data"
    }
   ],
   "source": [
    "#here epoch with minimum validation loss is noted\n",
    "from matplotlib import pyplot as plt\n",
    "#Graphs for loss and epochs\n",
    "plt.plot(history.history['loss'],'r',label='training loss')\n",
    "plt.plot(history.history['val_loss'],label='validation loss')\n",
    "plt.xlabel('# epochs')\n",
    "plt.ylabel('loss')\n",
    "plt.legend()\n",
    "plt.show()"
   ]
  },
  {
   "cell_type": "code",
   "execution_count": 6,
   "id": "7f987be5",
   "metadata": {},
   "outputs": [
    {
     "name": "stdout",
     "output_type": "stream",
     "text": [
      "116/116 [==============================] - 31s 272ms/step - loss: 0.0938 - accuracy: 0.9805\n",
      "[0.09381284564733505, 0.9804613590240479]\n"
     ]
    }
   ],
   "source": [
    "#Training accuracy\n",
    "print(model.evaluate(train_data,train_target))"
   ]
  },
  {
   "cell_type": "code",
   "execution_count": 7,
   "id": "fda3f472",
   "metadata": {},
   "outputs": [
    {
     "data": {
      "image/png": "[encoded data removed]",
      "text/plain": [
       "<Figure size 432x288 with 1 Axes>"
      ]
     },
     "metadata": {
      "needs_background": "light"
     },
     "output_type": "display_data"
    }
   ],
   "source": [
    "#accuracy for graphs\n",
    "plt.plot(history.history['accuracy'],'r',label='training accuracy')\n",
    "plt.plot(history.history['val_accuracy'],label='validation accuracy')\n",
    "plt.xlabel('# epochs')\n",
    "plt.ylabel('loss')\n",
    "plt.legend()\n",
    "plt.show()"
   ]
  },
  {
   "cell_type": "code",
   "execution_count": 8,
   "id": "ec2fe7e7",
   "metadata": {},
   "outputs": [
    {
     "name": "stdout",
     "output_type": "stream",
     "text": [
      "13/13 [==============================] - 3s 251ms/step - loss: 0.2950 - accuracy: 0.9317\n",
      "[0.2949904799461365, 0.9317073225975037]\n"
     ]
    }
   ],
   "source": [
    "#Test accuracy\n",
    "print(model.evaluate(test_data,test_target))"
   ]
  },
  {
   "cell_type": "code",
   "execution_count": null,
   "id": "abc9fbce",
   "metadata": {},
   "outputs": [],
   "source": []
  }
 ],
 "metadata": {
  "kernelspec": {
   "display_name": "Python 3 (ipykernel)",
   "language": "python",
   "name": "python3"
  },
  "language_info": {
   "codemirror_mode": {
    "name": "ipython",
    "version": 3
   },
   "file_extension": ".py",
   "mimetype": "text/x-python",
   "name": "python",
   "nbconvert_exporter": "python",
   "pygments_lexer": "ipython3",
   "version": "3.8.8"
  }
 },
 "nbformat": 4,
 "nbformat_minor": 5
}
