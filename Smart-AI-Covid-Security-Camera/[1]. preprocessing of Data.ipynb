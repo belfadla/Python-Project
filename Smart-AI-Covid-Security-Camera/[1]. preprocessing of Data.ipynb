{
 "cells": [
  {
   "cell_type": "code",
   "execution_count": 1,
   "id": "928e164a",
   "metadata": {},
   "outputs": [
    {
     "name": "stdout",
     "output_type": "stream",
     "text": [
      "{'mask found': 0, 'wear mask': 1}\n",
      "['mask found', 'wear mask']\n",
      "[0, 1]\n"
     ]
    }
   ],
   "source": [
    "import cv2,os\n",
    "\n",
    "#path for dataset location\n",
    "data_path='dataset'\n",
    "\n",
    "#loading the folder names into CATEGORIES\n",
    "categories=os.listdir(data_path)\n",
    "#creating arrays for labels 0 and 1\n",
    "labels=[i for i in range(len(categories))]\n",
    "#dictionary for labels\n",
    "label_dict=dict(zip(categories,labels)) \n",
    "#keys as folder names\n",
    "#lables as 0 and 1\n",
    "print(label_dict)\n",
    "print(categories)\n",
    "print(labels)\n"
   ]
  },
  {
   "cell_type": "code",
   "execution_count": 2,
   "id": "13ed162e",
   "metadata": {},
   "outputs": [],
   "source": [
    "#image size declaration 100x100\n",
    "img_size=100\n",
    "\n",
    "#empty python list data and target to save images and target labels.\n",
    "data=[]\n",
    "target=[]\n",
    "\n",
    "#go through all the two folders(categories)\n",
    "#then create a folder path for dataset.\n",
    "#then load all the images..\n",
    "\n",
    "for category in categories:\n",
    "    folder_path=os.path.join(data_path,category)\n",
    "    img_names=os.listdir(folder_path)\n",
    "    \n",
    "    #for loop going through each and every image inside that folder and load all the images there..\n",
    "    #Those images will be converted to gray and resize to 100x100\n",
    "    #append the resized images to data..\n",
    "    #and append 0 and 1 to target\n",
    "    #try and exception concepts implemented because incase if images are not available\n",
    "    #then error can raise which can be handled using this try and exception concepts\n",
    "    \n",
    "        \n",
    "    for img_name in img_names:\n",
    "        img_path=os.path.join(folder_path,img_name)\n",
    "        img=cv2.imread(img_path)\n",
    "\n",
    "        try:\n",
    "            gray=cv2.cvtColor(img,cv2.COLOR_BGR2GRAY)           \n",
    "            #Coverting the image into gray scale\n",
    "            resized=cv2.resize(gray,(img_size,img_size))\n",
    "            data.append(resized)\n",
    "            target.append(label_dict[category])\n",
    "            #appending the image and the label(categorized) into the list (dataset)\n",
    "\n",
    "        except Exception as e:\n",
    "            print('Exception:',e)\n",
    "            #if any exception rasied, the exception will be printed here. And pass to the next image\n"
   ]
  },
  {
   "cell_type": "code",
   "execution_count": 3,
   "id": "045f1ad0",
   "metadata": {},
   "outputs": [],
   "source": [
    "import numpy as np\n",
    "#normalize the images first we divide it by 255.0 to convert the pixel range into 0 and 1\n",
    "#reshape into 4 d array as Neural Network requires 4d array\n",
    "#1 because gray scale image\n",
    "#target --convert into numpy arrray and convert into categorial representation..\n",
    "#since last layer has 2 neurons are faces with and without mask\n",
    "#therefore categorial representation is needed.\n",
    "\n",
    "data=np.array(data)/255.0\n",
    "data=np.reshape(data,(data.shape[0],img_size,img_size,1))\n",
    "target=np.array(target)\n",
    "\n",
    "from keras.utils import np_utils\n",
    "\n",
    "new_target=np_utils.to_categorical(target)"
   ]
  },
  {
   "cell_type": "code",
   "execution_count": 4,
   "id": "4b59e106",
   "metadata": {},
   "outputs": [],
   "source": [
    "#save the data and target..\n",
    "#data->images\n",
    "#target contains whethers its face with mask and without face mask\n",
    "\n",
    "np.save('data',data)\n",
    "np.save('target',new_target)"
   ]
  },
  {
   "cell_type": "code",
   "execution_count": null,
   "id": "454e1523",
   "metadata": {},
   "outputs": [],
   "source": []
  }
 ],
 "metadata": {
  "kernelspec": {
   "display_name": "Python 3 (ipykernel)",
   "language": "python",
   "name": "python3"
  },
  "language_info": {
   "codemirror_mode": {
    "name": "ipython",
    "version": 3
   },
   "file_extension": ".py",
   "mimetype": "text/x-python",
   "name": "python",
   "nbconvert_exporter": "python",
   "pygments_lexer": "ipython3",
   "version": "3.8.8"
  }
 },
 "nbformat": 4,
 "nbformat_minor": 5
}
